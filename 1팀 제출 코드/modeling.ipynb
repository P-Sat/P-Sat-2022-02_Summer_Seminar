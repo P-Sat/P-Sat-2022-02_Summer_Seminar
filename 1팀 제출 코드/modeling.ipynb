{
 "cells": [
  {
   "cell_type": "code",
   "execution_count": 6,
   "metadata": {
    "id": "WfMG2Ey_Gmvz"
   },
   "outputs": [],
   "source": [
    "import pandas as pd\n",
    "import time \n",
    "import matplotlib.pyplot as plt\n",
    "import seaborn as sns\n",
    "import missingno as msno\n",
    "import numpy as np\n",
    "from sklearn.cluster import DBSCAN\n",
    "from xgboost import XGBClassifier, DMatrix\n",
    "from sklearn.model_selection import train_test_split, RandomizedSearchCV, GridSearchCV\n",
    "from sklearn.metrics import accuracy_score, precision_score, recall_score, f1_score, roc_auc_score, classification_report\n",
    "from sklearn.linear_model import LogisticRegression\n",
    "from lightgbm import LGBMClassifier\n",
    "from sklearn.preprocessing import StandardScaler, MinMaxScaler, OneHotEncoder\n",
    "from imblearn.over_sampling import SMOTE, RandomOverSampler\n",
    "from imblearn.combine import SMOTETomek\n",
    "import re\n",
    "\n",
    "import random\n",
    "random.seed(804)"
   ]
  },
  {
   "cell_type": "code",
   "execution_count": 7,
   "metadata": {
    "id": "hAhpEUqhEBQg"
   },
   "outputs": [],
   "source": [
    "train = pd.read_csv('train(분포 무작위 추출&2426열제거).csv', encoding='cp949')\n",
    "test = pd.read_csv('test(분포 무작위 추출&2426열제거).csv', encoding='cp949')"
   ]
  },
  {
   "cell_type": "code",
   "execution_count": 8,
   "metadata": {
    "id": "R0qHqG5EGxMf"
   },
   "outputs": [],
   "source": [
    "# 변수 형태별 리스트\n",
    "cat_list = [a for a in train.columns if a.endswith('cat')]\n",
    "bin_list = [a for a in train.columns if a.endswith('bin')]\n",
    "int_list = [a for a in train.columns if a not in cat_list and a not in bin_list]"
   ]
  },
  {
   "cell_type": "code",
   "execution_count": 9,
   "metadata": {
    "id": "KG_qDq5NGzxc"
   },
   "outputs": [],
   "source": [
    "# 범주형 변환 \n",
    "train[cat_list] = train[cat_list].astype('category')\n",
    "test[cat_list] = test[cat_list].astype('category')"
   ]
  },
  {
   "cell_type": "markdown",
   "metadata": {
    "id": "V8tM0fxbG63h"
   },
   "source": [
    "### one-hot encoding\n",
    "- LabelEncoder: 디코딩하기 쉬움, 문자열 값들이 일괄적인 숫자형으로 변환되면서 숫자의 크고 작은 특성이 반영된다는 단점\n",
    "- One Hot Encoder: 피처 값의 종류에 따라 컬럼을 추가해 해당하는 컬럼에만 1을 표시하고 나머지 컬럼에는 0을 채워줌으로써 이러한 단점 보완"
   ]
  },
  {
   "cell_type": "code",
   "execution_count": 10,
   "metadata": {
    "id": "CfcAOmO9G--D"
   },
   "outputs": [
    {
     "data": {
      "text/plain": [
       "'# 범주형 더미변수 변환 \\ntrain_dum = pd.get_dummies(train)\\ntest_dum = pd.get_dummies(test)\\n\\nprint(\"원본 특성 :\\n\", list(train_dum.columns))\\n\\n# LGBM 모델의 non-ascii characters 오류 방지 위해 컬럼 이름 변경\\ntrain_dum = train_dum.rename(columns = lambda x:re.sub(\\'[^A-Za-z0-9_]+\\', \\'\\', x))\\ntest_dum = test_dum.rename(columns = lambda x:re.sub(\\'[^A-Za-z0-9_]+\\', \\'\\', x))'"
      ]
     },
     "execution_count": 10,
     "metadata": {},
     "output_type": "execute_result"
    }
   ],
   "source": [
    "'''# 범주형 더미변수 변환 \n",
    "train_dum = pd.get_dummies(train)\n",
    "test_dum = pd.get_dummies(test)\n",
    "\n",
    "print(\"원본 특성 :\\n\", list(train_dum.columns))\n",
    "\n",
    "# LGBM 모델의 non-ascii characters 오류 방지 위해 컬럼 이름 변경\n",
    "train_dum = train_dum.rename(columns = lambda x:re.sub('[^A-Za-z0-9_]+', '', x))\n",
    "test_dum = test_dum.rename(columns = lambda x:re.sub('[^A-Za-z0-9_]+', '', x))'''"
   ]
  },
  {
   "cell_type": "code",
   "execution_count": 11,
   "metadata": {
    "colab": {
     "base_uri": "https://localhost:8080/",
     "height": 280
    },
    "id": "fxQ25Fq4H6y0",
    "outputId": "bcf84e62-d848-46cd-dc02-a0910f39535e"
   },
   "outputs": [
    {
     "data": {
      "text/plain": [
       "<AxesSubplot:>"
      ]
     },
     "execution_count": 11,
     "metadata": {},
     "output_type": "execute_result"
    },
    {
     "data": {
      "image/png": "[encoded data removed]",
      "text/plain": [
       "<Figure size 432x288 with 1 Axes>"
      ]
     },
     "metadata": {
      "needs_background": "light"
     },
     "output_type": "display_data"
    }
   ],
   "source": [
    "train['target'].value_counts().plot(kind=\"bar\") #클래스 불균형으로 과적합 가능: under나 over sampling 필요"
   ]
  },
  {
   "cell_type": "code",
   "execution_count": 12,
   "metadata": {
    "id": "OvY--w_hHBRJ"
   },
   "outputs": [],
   "source": [
    "X = train.iloc[:,2:]\n",
    "y = train['target']"
   ]
  },
  {
   "cell_type": "code",
   "execution_count": 13,
   "metadata": {
    "colab": {
     "base_uri": "https://localhost:8080/"
    },
    "id": "Ifv5n1_XHS1v",
    "outputId": "d844c13b-8d6f-48e7-cecd-fcb648401282"
   },
   "outputs": [
    {
     "name": "stdout",
     "output_type": "stream",
     "text": [
      "sampling 적용 전 학습용 피처/레이블 데이터 세트 :  (416648, 55) (416648,)\n",
      "sampling 적용 후 학습용 피처/레이블 데이터 세트 : (802838, 55) (802838,)\n"
     ]
    }
   ],
   "source": [
    "#랜덤 오버 샘플링으로 클래스 불균형 개선 \n",
    "oversample = RandomOverSampler(sampling_strategy='minority')\n",
    "X_over, y_over = oversample.fit_resample(X, y)\n",
    "\n",
    "print(\"sampling 적용 전 학습용 피처/레이블 데이터 세트 : \", X.shape, y.shape)\n",
    "print('sampling 적용 후 학습용 피처/레이블 데이터 세트 :', X_over.shape, y_over.shape)"
   ]
  },
  {
   "cell_type": "code",
   "execution_count": 14,
   "metadata": {
    "colab": {
     "base_uri": "https://localhost:8080/",
     "height": 280
    },
    "id": "6VKe8-2sH-hW",
    "outputId": "1b7794cd-2704-4ae7-ce03-daeec865604f"
   },
   "outputs": [
    {
     "data": {
      "text/plain": [
       "<AxesSubplot:>"
      ]
     },
     "execution_count": 14,
     "metadata": {},
     "output_type": "execute_result"
    },
    {
     "data": {
      "image/png": "[encoded data removed]",
      "text/plain": [
       "<Figure size 432x288 with 1 Axes>"
      ]
     },
     "metadata": {
      "needs_background": "light"
     },
     "output_type": "display_data"
    }
   ],
   "source": [
    "#샘플링 적용 후 target 비율 \n",
    "y_over.value_counts().plot(kind=\"bar\") "
   ]
  },
  {
   "cell_type": "code",
   "execution_count": 15,
   "metadata": {},
   "outputs": [
    {
     "data": {
      "text/plain": [
       "\"from bayes_opt import BayesianOptimization\\nfrom lightgbm import LGBMClassifier\\n\\nLGBM_parameter_bounds ={\\n    'num_leaves':(24, 45),\\n    'min_child_weight':(5, 50),\\n    'bagging_freq':(0.5,2),\\n    'max_depth':(5, 8.99),\\n    'learning_rate':(0.5,0.8),\\n    'n_estimators':(100,800)\\n                 \\n}\\n\\ndef lgbm_bo(num_leaves, min_child_weight, bagging_freq, max_depth, learning_rate,n_estimators):\\n    \\n    LGBM_parameter_bounds = {\\n        'num_leaves':int(round(num_leaves)),\\n        'min_child_weight': int(round(min_child_weight)),\\n        'bagging_freq':int(round(bagging_freq)),\\n        'max_depth': int(round(max_depth)),\\n        'learning_rate': int(round(learning_rate)),\\n         'n_estimators': int(round(n_estimators))\\n        \\n    }\\n    lgbm = LGBMClassifier(** LGBM_parameter_bounds,n_jobs=-1,is_unbalanced = True, random_state=804, \\n                          categorical_feature = 'auto', boosting_type = 'gbdt')\\n    \\n    x_train, x_val, y_train_split, y_val_split = train_test_split(X_train, y_train,\\n                                                                  test_size=0.2, random_state=804)\\n    \\n    lgbm.fit(x_train, y_train_split)\\n    \\n    f1 = f1_score(y_val_split, lgbm.predict(x_val),average='macro')\\n    return f1\\n\\noptimizer = BayesianOptimization(f=lgbm_bo,\\n                                pbounds=LGBM_parameter_bounds,\\n                                random_state=804) \\n\\noptimizer.maximize(init_points = 5, n_iter = 7)\""
      ]
     },
     "execution_count": 15,
     "metadata": {},
     "output_type": "execute_result"
    }
   ],
   "source": [
    "'''from bayes_opt import BayesianOptimization\n",
    "from lightgbm import LGBMClassifier\n",
    "\n",
    "LGBM_parameter_bounds ={\n",
    "    'num_leaves':(24, 45),\n",
    "    'min_child_weight':(5, 50),\n",
    "    'bagging_freq':(0.5,2),\n",
    "    'max_depth':(5, 8.99),\n",
    "    'learning_rate':(0.5,0.8),\n",
    "    'n_estimators':(100,800)\n",
    "                 \n",
    "}\n",
    "\n",
    "def lgbm_bo(num_leaves, min_child_weight, bagging_freq, max_depth, learning_rate,n_estimators):\n",
    "    \n",
    "    LGBM_parameter_bounds = {\n",
    "        'num_leaves':int(round(num_leaves)),\n",
    "        'min_child_weight': int(round(min_child_weight)),\n",
    "        'bagging_freq':int(round(bagging_freq)),\n",
    "        'max_depth': int(round(max_depth)),\n",
    "        'learning_rate': int(round(learning_rate)),\n",
    "         'n_estimators': int(round(n_estimators))\n",
    "        \n",
    "    }\n",
    "    lgbm = LGBMClassifier(** LGBM_parameter_bounds,n_jobs=-1,is_unbalanced = True, random_state=804, \n",
    "                          categorical_feature = 'auto', boosting_type = 'gbdt')\n",
    "    \n",
    "    x_train, x_val, y_train_split, y_val_split = train_test_split(X_train, y_train,\n",
    "                                                                  test_size=0.2, random_state=804)\n",
    "    \n",
    "    lgbm.fit(x_train, y_train_split)\n",
    "    \n",
    "    f1 = f1_score(y_val_split, lgbm.predict(x_val),average='macro')\n",
    "    return f1\n",
    "\n",
    "optimizer = BayesianOptimization(f=lgbm_bo,\n",
    "                                pbounds=LGBM_parameter_bounds,\n",
    "                                random_state=804) \n",
    "\n",
    "optimizer.maximize(init_points = 5, n_iter = 7)'''"
   ]
  },
  {
   "cell_type": "code",
   "execution_count": 16,
   "metadata": {},
   "outputs": [
    {
     "data": {
      "text/plain": [
       "\"from sklearn.model_selection import GridSearchCV\\nfrom itertools import product\\n\\nlgbm_clf = LGBMClassifier(random_state=804)\\nlgbm_clf.fit(train, target_train)\\n\\nparameters = {\\n    'n_estimators': [600,1000],\\n    'learning_rate':[0.02],\\n    'num_leaves' : [12,16,20],\\n    'min_child_samples' : [500],\\n    'max_depth':[2,4,6]\\n    \\n}\\n\\ngrid_cv = GridSearchCV(lgbm_clf, param_grid = parameters, scoring ='f1', cv=3, verbose=1)\\ngrid_cv.fit(train, target_train)\\n\\ncv_results_df = pd.DataFrame(gird_cv.cv_results)\\ncv_results_df\\n\""
      ]
     },
     "execution_count": 16,
     "metadata": {},
     "output_type": "execute_result"
    }
   ],
   "source": [
    "'''from sklearn.model_selection import GridSearchCV\n",
    "from itertools import product\n",
    "\n",
    "lgbm_clf = LGBMClassifier(random_state=804)\n",
    "lgbm_clf.fit(train, target_train)\n",
    "\n",
    "parameters = {\n",
    "    'n_estimators': [600,1000],\n",
    "    'learning_rate':[0.02],\n",
    "    'num_leaves' : [12,16,20],\n",
    "    'min_child_samples' : [500],\n",
    "    'max_depth':[2,4,6]\n",
    "    \n",
    "}\n",
    "\n",
    "grid_cv = GridSearchCV(lgbm_clf, param_grid = parameters, scoring ='f1', cv=3, verbose=1)\n",
    "grid_cv.fit(train, target_train)\n",
    "\n",
    "cv_results_df = pd.DataFrame(gird_cv.cv_results)\n",
    "cv_results_df\n",
    "'''"
   ]
  },
  {
   "cell_type": "code",
   "execution_count": 17,
   "metadata": {
    "id": "35xT1H3NHUhb"
   },
   "outputs": [],
   "source": [
    "X_train, X_test, y_train, y_test = train_test_split(X_over, y_over, test_size=0.2, random_state=804)"
   ]
  },
  {
   "cell_type": "code",
   "execution_count": 18,
   "metadata": {
    "id": "yUO638-7HWwZ"
   },
   "outputs": [],
   "source": [
    "def evalutation(y_test, prediction):\n",
    "    report = classification_report(y_test, prediction)\n",
    "    acc = accuracy_score(y_test, prediction)\n",
    "    pre = precision_score(y_test, prediction)\n",
    "    recall = recall_score(y_test, prediction)\n",
    "    f1 = f1_score(y_test, prediction)\n",
    "    \n",
    "    print('report')\n",
    "    print(report)\n",
    "    print('정확도:{}, 정밀도:{}, 재현율:{}, f1 score:{}'.format(acc, pre, recall, f1))"
   ]
  },
  {
   "cell_type": "code",
   "execution_count": 19,
   "metadata": {},
   "outputs": [],
   "source": [
    "numeric_variable = [\"V1\", \"V3\", \"V5\", \"V14\", \"V15\", \"V19\", \"V20\", \"V21\", \"V34\", \"V35\", \"V36\", \"V37\", \"V38\", \"V39\", \"V40\", \"V41\", \"V42\", \n",
    "                   \"V43\", \"V44\", \"V45\", \"V46\", \"V47\", \"V48\", \"V49\", \"V50\", \"V51\"]"
   ]
  },
  {
   "cell_type": "code",
   "execution_count": 20,
   "metadata": {},
   "outputs": [],
   "source": [
    "from sklearn.preprocessing import StandardScaler\n",
    "\n",
    "# 객체 생성\n",
    "scaler = StandardScaler()   \n",
    "\n",
    "# 훈련데이터의 분포 저장\n",
    "scaler.fit(X_train[numeric_variable])\n",
    "\n",
    "# 훈련 데이터 스케일링\n",
    "scaler_scaled = scaler.transform(X_train[numeric_variable])"
   ]
  },
  {
   "cell_type": "code",
   "execution_count": 21,
   "metadata": {},
   "outputs": [],
   "source": [
    "scaler_scaled = pd.DataFrame(scaler_scaled, columns = numeric_variable)"
   ]
  },
  {
   "cell_type": "code",
   "execution_count": 22,
   "metadata": {},
   "outputs": [],
   "source": [
    "X_train[numeric_variable] = scaler_scaled"
   ]
  },
  {
   "cell_type": "code",
   "execution_count": 23,
   "metadata": {},
   "outputs": [],
   "source": [
    "from sklearn.preprocessing import StandardScaler\n",
    "\n",
    "# 객체 생성\n",
    "scaler = StandardScaler()   \n",
    "\n",
    "# 훈련데이터의 분포 저장\n",
    "scaler.fit(X_test[numeric_variable])\n",
    "\n",
    "# 훈련 데이터 스케일링\n",
    "scaler_scaled = scaler.transform(X_test[numeric_variable])"
   ]
  },
  {
   "cell_type": "code",
   "execution_count": 24,
   "metadata": {},
   "outputs": [],
   "source": [
    "scaler_scaled = pd.DataFrame(scaler_scaled, columns = numeric_variable)"
   ]
  },
  {
   "cell_type": "code",
   "execution_count": 25,
   "metadata": {},
   "outputs": [],
   "source": [
    "X_test[numeric_variable] = scaler_scaled"
   ]
  },
  {
   "cell_type": "code",
   "execution_count": 26,
   "metadata": {
    "scrolled": true
   },
   "outputs": [
    {
     "name": "stderr",
     "output_type": "stream",
     "text": [
      "C:\\ProgramData\\Anaconda3\\lib\\site-packages\\lightgbm\\sklearn.py:726: UserWarning: 'early_stopping_rounds' argument is deprecated and will be removed in a future release of LightGBM. Pass 'early_stopping()' callback via 'callbacks' argument instead.\n",
      "  _log_warning(\"'early_stopping_rounds' argument is deprecated and will be removed in a future release of LightGBM. \"\n",
      "C:\\ProgramData\\Anaconda3\\lib\\site-packages\\lightgbm\\sklearn.py:736: UserWarning: 'verbose' argument is deprecated and will be removed in a future release of LightGBM. Pass 'log_evaluation()' callback via 'callbacks' argument instead.\n",
      "  _log_warning(\"'verbose' argument is deprecated and will be removed in a future release of LightGBM. \"\n",
      "C:\\ProgramData\\Anaconda3\\lib\\site-packages\\lightgbm\\basic.py:1780: UserWarning: Overriding the parameters from Reference Dataset.\n",
      "  _log_warning('Overriding the parameters from Reference Dataset.')\n",
      "C:\\ProgramData\\Anaconda3\\lib\\site-packages\\lightgbm\\basic.py:1513: UserWarning: categorical_column in param dict is overridden.\n",
      "  _log_warning(f'{cat_alias} in param dict is overridden.')\n"
     ]
    },
    {
     "name": "stdout",
     "output_type": "stream",
     "text": [
      "[1]\tvalid_0's binary_logloss: 0.673432\n",
      "[2]\tvalid_0's binary_logloss: 0.662585\n",
      "[3]\tvalid_0's binary_logloss: 0.658449\n",
      "[4]\tvalid_0's binary_logloss: 0.659592\n",
      "[5]\tvalid_0's binary_logloss: 0.664939\n",
      "[6]\tvalid_0's binary_logloss: 0.673749\n",
      "[7]\tvalid_0's binary_logloss: 0.68539\n",
      "[8]\tvalid_0's binary_logloss: 0.699429\n",
      "[9]\tvalid_0's binary_logloss: 0.715483\n",
      "[10]\tvalid_0's binary_logloss: 0.733272\n",
      "[11]\tvalid_0's binary_logloss: 0.752581\n",
      "[12]\tvalid_0's binary_logloss: 0.773152\n",
      "[13]\tvalid_0's binary_logloss: 0.794871\n",
      "[14]\tvalid_0's binary_logloss: 0.817556\n",
      "[15]\tvalid_0's binary_logloss: 0.841097\n",
      "[16]\tvalid_0's binary_logloss: 0.865416\n",
      "[17]\tvalid_0's binary_logloss: 0.890415\n",
      "[18]\tvalid_0's binary_logloss: 0.915979\n",
      "[19]\tvalid_0's binary_logloss: 0.942084\n",
      "[20]\tvalid_0's binary_logloss: 0.968632\n",
      "[21]\tvalid_0's binary_logloss: 0.99562\n",
      "[22]\tvalid_0's binary_logloss: 1.02297\n",
      "[23]\tvalid_0's binary_logloss: 1.05065\n",
      "[24]\tvalid_0's binary_logloss: 1.07864\n",
      "[25]\tvalid_0's binary_logloss: 1.1069\n",
      "[26]\tvalid_0's binary_logloss: 1.13537\n",
      "[27]\tvalid_0's binary_logloss: 1.16405\n",
      "[28]\tvalid_0's binary_logloss: 1.19294\n",
      "[29]\tvalid_0's binary_logloss: 1.22199\n",
      "[30]\tvalid_0's binary_logloss: 1.25121\n",
      "[31]\tvalid_0's binary_logloss: 1.28056\n",
      "[32]\tvalid_0's binary_logloss: 1.31005\n",
      "[33]\tvalid_0's binary_logloss: 1.33964\n",
      "[34]\tvalid_0's binary_logloss: 1.36934\n",
      "[35]\tvalid_0's binary_logloss: 1.39913\n",
      "[36]\tvalid_0's binary_logloss: 1.429\n",
      "[37]\tvalid_0's binary_logloss: 1.45894\n",
      "[38]\tvalid_0's binary_logloss: 1.48897\n",
      "[39]\tvalid_0's binary_logloss: 1.51905\n",
      "[40]\tvalid_0's binary_logloss: 1.5492\n",
      "[41]\tvalid_0's binary_logloss: 1.57939\n",
      "[42]\tvalid_0's binary_logloss: 1.60962\n",
      "[43]\tvalid_0's binary_logloss: 1.63988\n",
      "[44]\tvalid_0's binary_logloss: 1.6702\n",
      "[45]\tvalid_0's binary_logloss: 1.70054\n",
      "[46]\tvalid_0's binary_logloss: 1.73091\n",
      "[47]\tvalid_0's binary_logloss: 1.76133\n",
      "[48]\tvalid_0's binary_logloss: 1.79176\n",
      "[49]\tvalid_0's binary_logloss: 1.82222\n",
      "[50]\tvalid_0's binary_logloss: 1.85269\n",
      "[51]\tvalid_0's binary_logloss: 1.8832\n",
      "[52]\tvalid_0's binary_logloss: 1.91372\n",
      "[53]\tvalid_0's binary_logloss: 1.94425\n",
      "[54]\tvalid_0's binary_logloss: 1.97478\n",
      "[55]\tvalid_0's binary_logloss: 2.00533\n",
      "[56]\tvalid_0's binary_logloss: 2.03591\n",
      "[57]\tvalid_0's binary_logloss: 2.06648\n",
      "[58]\tvalid_0's binary_logloss: 2.09705\n",
      "[59]\tvalid_0's binary_logloss: 2.12765\n",
      "[60]\tvalid_0's binary_logloss: 2.15824\n",
      "[61]\tvalid_0's binary_logloss: 2.18884\n",
      "[62]\tvalid_0's binary_logloss: 2.21947\n",
      "[63]\tvalid_0's binary_logloss: 2.25007\n",
      "[64]\tvalid_0's binary_logloss: 2.28071\n",
      "[65]\tvalid_0's binary_logloss: 2.31134\n",
      "[66]\tvalid_0's binary_logloss: 2.34196\n",
      "[67]\tvalid_0's binary_logloss: 2.37262\n",
      "[68]\tvalid_0's binary_logloss: 2.40326\n",
      "[69]\tvalid_0's binary_logloss: 2.43392\n",
      "[70]\tvalid_0's binary_logloss: 2.46456\n",
      "[71]\tvalid_0's binary_logloss: 2.4952\n",
      "[72]\tvalid_0's binary_logloss: 2.52584\n",
      "[73]\tvalid_0's binary_logloss: 2.55648\n",
      "[74]\tvalid_0's binary_logloss: 2.58714\n",
      "[75]\tvalid_0's binary_logloss: 2.6178\n",
      "[76]\tvalid_0's binary_logloss: 2.64846\n",
      "[77]\tvalid_0's binary_logloss: 2.67914\n",
      "[78]\tvalid_0's binary_logloss: 2.70981\n",
      "[79]\tvalid_0's binary_logloss: 2.74049\n",
      "[80]\tvalid_0's binary_logloss: 2.77114\n",
      "[81]\tvalid_0's binary_logloss: 2.80181\n",
      "[82]\tvalid_0's binary_logloss: 2.83245\n",
      "[83]\tvalid_0's binary_logloss: 2.86312\n",
      "[84]\tvalid_0's binary_logloss: 2.89378\n",
      "[85]\tvalid_0's binary_logloss: 2.92446\n",
      "[86]\tvalid_0's binary_logloss: 2.95512\n",
      "[87]\tvalid_0's binary_logloss: 2.98576\n",
      "[88]\tvalid_0's binary_logloss: 3.01644\n",
      "[89]\tvalid_0's binary_logloss: 3.04712\n",
      "[90]\tvalid_0's binary_logloss: 3.07784\n",
      "[91]\tvalid_0's binary_logloss: 3.10851\n",
      "[92]\tvalid_0's binary_logloss: 3.13919\n",
      "[93]\tvalid_0's binary_logloss: 3.1729\n",
      "[94]\tvalid_0's binary_logloss: 3.20356\n",
      "[95]\tvalid_0's binary_logloss: 3.23424\n",
      "[96]\tvalid_0's binary_logloss: 3.26193\n",
      "[97]\tvalid_0's binary_logloss: 3.29261\n",
      "[98]\tvalid_0's binary_logloss: 3.2922\n",
      "[99]\tvalid_0's binary_logloss: 3.29184\n",
      "[100]\tvalid_0's binary_logloss: 3.2915\n",
      "[101]\tvalid_0's binary_logloss: 3.29124\n",
      "[102]\tvalid_0's binary_logloss: 3.2912\n",
      "[103]\tvalid_0's binary_logloss: 3.30134\n",
      "report\n",
      "              precision    recall  f1-score   support\n",
      "\n",
      "           0       0.97      0.36      0.52     80353\n",
      "           1       0.61      0.99      0.75     80215\n",
      "\n",
      "    accuracy                           0.67    160568\n",
      "   macro avg       0.79      0.67      0.64    160568\n",
      "weighted avg       0.79      0.67      0.64    160568\n",
      "\n",
      "정확도:0.6722385531363659, 정밀도:0.6052705889535904, 재현율:0.9886928878638659, f1 score:0.7508662967942286\n"
     ]
    }
   ],
   "source": [
    "# LGBM modeling-변수 그대로 사용\n",
    "start1 = time.time()\n",
    "model = LGBMClassifier(n_estimators=1000,num_leaves=64,n_jobs=-1, random_state=804, is_unbalance=True)\n",
    "evals = [(X_test, y_test)]\n",
    "model.fit(X_train, y_train, early_stopping_rounds=100, eval_metric='logloss', eval_set=evals, verbose=True)\n",
    "end1 = time.time()\n",
    "start2 = time.time()\n",
    "pred = model.predict(X_test)\n",
    "pred_proba = model.predict_proba(X_test)[:1]\n",
    "end2 = time.time()\n",
    "\n",
    "evalutation(y_test, pred) # f1 score: 0.95"
   ]
  },
  {
   "cell_type": "code",
   "execution_count": 27,
   "metadata": {},
   "outputs": [
    {
     "name": "stdout",
     "output_type": "stream",
     "text": [
      "train 데이터 학습 시간:  4.1264283657073975\n",
      "test 데이터 예측 시간: 0.27719759941101074\n"
     ]
    }
   ],
   "source": [
    "print('train 데이터 학습 시간: ',end1 - start1)\n",
    "print('test 데이터 예측 시간:', end2 - start2)"
   ]
  },
  {
   "cell_type": "code",
   "execution_count": 28,
   "metadata": {},
   "outputs": [],
   "source": [
    "#submission 파일 생성 \n",
    "id_test = test['id'].values\n",
    "testset = test.drop(['id'],axis = 1)\n",
    "\n",
    "# 객체 생성\n",
    "scaler = StandardScaler()   \n",
    "\n",
    "# 훈련데이터의 분포 저장\n",
    "scaler.fit(testset[numeric_variable])\n",
    "\n",
    "# 훈련 데이터 스케일링\n",
    "scaler_scaled = scaler.transform(testset[numeric_variable])"
   ]
  },
  {
   "cell_type": "code",
   "execution_count": 29,
   "metadata": {},
   "outputs": [],
   "source": [
    "scaler_scaled = pd.DataFrame(scaler_scaled, columns = numeric_variable)"
   ]
  },
  {
   "cell_type": "code",
   "execution_count": 30,
   "metadata": {},
   "outputs": [],
   "source": [
    "testset[numeric_variable] = scaler_scaled"
   ]
  },
  {
   "cell_type": "code",
   "execution_count": 31,
   "metadata": {},
   "outputs": [],
   "source": [
    "prediction_final = model.predict(testset)\n",
    "\n",
    "submission= pd.DataFrame()\n",
    "submission['id'] = id_test\n",
    "submission['target'] = prediction_final\n",
    "\n",
    "submission.to_csv('submission_final.csv', encoding = 'cp949',index = False)"
   ]
  },
  {
   "cell_type": "code",
   "execution_count": null,
   "metadata": {},
   "outputs": [],
   "source": []
  }
 ],
 "metadata": {
  "colab": {
   "collapsed_sections": [],
   "name": "lgbm",
   "provenance": []
  },
  "kernelspec": {
   "display_name": "Python 3 (ipykernel)",
   "language": "python",
   "name": "python3"
  },
  "language_info": {
   "codemirror_mode": {
    "name": "ipython",
    "version": 3
   },
   "file_extension": ".py",
   "mimetype": "text/x-python",
   "name": "python",
   "nbconvert_exporter": "python",
   "pygments_lexer": "ipython3",
   "version": "3.9.7"
  },
  "toc": {
   "base_numbering": 1,
   "nav_menu": {},
   "number_sections": true,
   "sideBar": true,
   "skip_h1_title": false,
   "title_cell": "Table of Contents",
   "title_sidebar": "Contents",
   "toc_cell": false,
   "toc_position": {},
   "toc_section_display": true,
   "toc_window_display": false
  }
 },
 "nbformat": 4,
 "nbformat_minor": 1
}
